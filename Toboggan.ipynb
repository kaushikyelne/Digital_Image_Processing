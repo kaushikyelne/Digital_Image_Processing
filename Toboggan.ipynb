{
 "cells": [
  {
   "cell_type": "code",
   "execution_count": 1,
   "metadata": {},
   "outputs": [
    {
     "name": "stdout",
     "output_type": "stream",
     "text": [
      "[[4 4 3 2]\n",
      " [3 7 6 1]\n",
      " [2 7 6 2]\n",
      " [0 1 0 2]]\n"
     ]
    }
   ],
   "source": [
    "import numpy as np\n",
    "\n",
    "# Image Matrix\n",
    "image_matrix = np.array([[4,4,3,2], [3,7,6,1], [2,7,6,2], [0,1,0,2]])\n",
    "print(image_matrix)"
   ]
  },
  {
   "cell_type": "code",
   "execution_count": 2,
   "metadata": {},
   "outputs": [
    {
     "name": "stdout",
     "output_type": "stream",
     "text": [
      "[[12 14 23 13]\n",
      " [16 11 21 18]\n",
      " [21 24 23 13]\n",
      " [12 21 20 10]]\n"
     ]
    }
   ],
   "source": [
    "# Gradient Matrix\n",
    "gradient_matrix = np.array([[12,14,23,13], [16,11,21,18], [21,24,23,13], [12,21,20,10]])\n",
    "print(gradient_matrix)\n"
   ]
  },
  {
   "cell_type": "code",
   "execution_count": 3,
   "metadata": {},
   "outputs": [
    {
     "name": "stdout",
     "output_type": "stream",
     "text": [
      "[[0 0 0 0]\n",
      " [0 0 0 0]\n",
      " [0 0 0 0]\n",
      " [0 0 0 0]]\n"
     ]
    }
   ],
   "source": [
    "# Output Matrix initially\n",
    "# Values will be updated in the Output Matrix after applying Toboggan Algorithm\n",
    "\n",
    "output_matrix = np.array([[0,0,0,0], [0,0,0,0], [0,0,0,0], [0,0,0,0]])\n",
    "print(output_matrix)"
   ]
  },
  {
   "cell_type": "code",
   "execution_count": 7,
   "metadata": {},
   "outputs": [
    {
     "name": "stdout",
     "output_type": "stream",
     "text": [
      "Neighbourhood of 12 is :\n",
      "[[ 0  0  0]\n",
      " [ 0 12 14]\n",
      " [ 0 16 11]]\n",
      "Minimum value in the Neighbourhood Matrix :  11\n",
      "[1, 1]\n",
      "Neighbourhood of 14 is :\n",
      "[[ 0  0  0]\n",
      " [12 14 23]\n",
      " [16 11 21]]\n",
      "Minimum value in the Neighbourhood Matrix :  11\n",
      "[1, 1]\n",
      "Neighbourhood of 23 is :\n",
      "[[ 0  0  0]\n",
      " [14 23 13]\n",
      " [11 21 18]]\n",
      "Minimum value in the Neighbourhood Matrix :  11\n",
      "[1, 1]\n",
      "Neighbourhood of 13 is :\n",
      "[[ 0  0  0]\n",
      " [23 13  0]\n",
      " [21 18  0]]\n",
      "Minimum value in the Neighbourhood Matrix :  13\n",
      "[0, 3]\n",
      "[2, 3]\n",
      "Neighbourhood of 16 is :\n",
      "[[ 0 12 14]\n",
      " [ 0 16 11]\n",
      " [ 0 21 24]]\n",
      "Minimum value in the Neighbourhood Matrix :  11\n",
      "[1, 1]\n",
      "Neighbourhood of 11 is :\n",
      "[[12 14 23]\n",
      " [16 11 21]\n",
      " [21 24 23]]\n",
      "Minimum value in the Neighbourhood Matrix :  11\n",
      "[1, 1]\n",
      "Neighbourhood of 21 is :\n",
      "[[14 23 13]\n",
      " [11 21 18]\n",
      " [24 23 13]]\n",
      "Minimum value in the Neighbourhood Matrix :  11\n",
      "[1, 1]\n",
      "Neighbourhood of 18 is :\n",
      "[[23 13  0]\n",
      " [21 18  0]\n",
      " [23 13  0]]\n",
      "Minimum value in the Neighbourhood Matrix :  13\n",
      "[0, 3]\n",
      "[2, 3]\n",
      "Neighbourhood of 21 is :\n",
      "[[ 0 16 11]\n",
      " [ 0 21 24]\n",
      " [ 0 12 21]]\n",
      "Minimum value in the Neighbourhood Matrix :  11\n",
      "[1, 1]\n",
      "Neighbourhood of 24 is :\n",
      "[[16 11 21]\n",
      " [21 24 23]\n",
      " [12 21 20]]\n",
      "Minimum value in the Neighbourhood Matrix :  11\n",
      "[1, 1]\n",
      "Neighbourhood of 23 is :\n",
      "[[11 21 18]\n",
      " [24 23 13]\n",
      " [21 20 10]]\n",
      "Minimum value in the Neighbourhood Matrix :  10\n",
      "[3, 3]\n",
      "Neighbourhood of 13 is :\n",
      "[[21 18  0]\n",
      " [23 13  0]\n",
      " [20 10  0]]\n",
      "Minimum value in the Neighbourhood Matrix :  10\n",
      "[3, 3]\n",
      "Neighbourhood of 12 is :\n",
      "[[ 0 21 24]\n",
      " [ 0 12 21]\n",
      " [ 0  0  0]]\n",
      "Minimum value in the Neighbourhood Matrix :  12\n",
      "[0, 0]\n",
      "[3, 0]\n",
      "Neighbourhood of 21 is :\n",
      "[[21 24 23]\n",
      " [12 21 20]\n",
      " [ 0  0  0]]\n",
      "Minimum value in the Neighbourhood Matrix :  12\n",
      "[0, 0]\n",
      "[3, 0]\n",
      "Neighbourhood of 20 is :\n",
      "[[24 23 13]\n",
      " [21 20 10]\n",
      " [ 0  0  0]]\n",
      "Minimum value in the Neighbourhood Matrix :  10\n",
      "[3, 3]\n",
      "Neighbourhood of 10 is :\n",
      "[[23 13  0]\n",
      " [20 10  0]\n",
      " [ 0  0  0]]\n",
      "Minimum value in the Neighbourhood Matrix :  10\n",
      "[3, 3]\n",
      "\n",
      "\n",
      "Final\n",
      "\n",
      "\n",
      "Output : \n",
      "[[7 7 7 2]\n",
      " [7 7 7 2]\n",
      " [7 7 2 2]\n",
      " [0 0 2 2]]\n"
     ]
    }
   ],
   "source": [
    "# Padding Gradient Matrix with zeros\n",
    "gd_zp = np.pad(gradient_matrix, pad_width=1, mode='constant', constant_values=0)\n",
    "\n",
    "# Applying Toboggan Contrast Enhancement Algorithm\n",
    "for i in range(1,5):\n",
    "    for j in range(1,5):\n",
    "        \n",
    "        # Making Matrix of all neighbouring values \n",
    "        # It is a 3x3 Matrix\n",
    "        neighbours = np.array([[gd_zp[i-1,j-1], gd_zp[i-1,j], gd_zp[i-1,j+1]], \\\n",
    "                              [gd_zp[i,j-1], gd_zp[i,j], gd_zp[i,j+1]], \\\n",
    "                              [gd_zp[i+1,j-1], gd_zp[i+1,j], gd_zp[i+1,j+1]]])\n",
    "        print('Neighbourhood of',gd_zp[i,j],'is :')\n",
    "        print(neighbours)\n",
    "        \n",
    "        # Minimum value in the Neighbourhood Matrix\n",
    "        min_value = np.min(neighbours[np.nonzero(neighbours)])\n",
    "        print('Minimum value in the Neighbourhood Matrix : ',min_value)\n",
    "\n",
    "        # Computing index of minimum value in gradient matrix\n",
    "        index_min_value = np.where(gradient_matrix == min_value)\n",
    "        \n",
    "        # Coordinates of minimum value in gradient matrix in List\n",
    "        coord_np_arr = list(zip(index_min_value[0], index_min_value[1]))\n",
    "        for cord in coord_np_arr :\n",
    "            coordinate = list(cord)\n",
    "            print(coordinate)\n",
    "         \n",
    "        # Updating output matrix with the value in image matrix corressponding to minimum value in gradient matrix \n",
    "        output_matrix[i-1,j-1] = image_matrix[coordinate[0], coordinate[1]] \n",
    "\n",
    "print('\\n\\nFinal\\n\\n')        \n",
    "print('Output : ')\n",
    "print(output_matrix)"
   ]
  },
  {
   "cell_type": "code",
   "execution_count": null,
   "metadata": {},
   "outputs": [],
   "source": []
  }
 ],
 "metadata": {
  "celltoolbar": "Raw Cell Format",
  "kernelspec": {
   "display_name": "Python 3",
   "language": "python",
   "name": "python3"
  },
  "language_info": {
   "codemirror_mode": {
    "name": "ipython",
    "version": 3
   },
   "file_extension": ".py",
   "mimetype": "text/x-python",
   "name": "python",
   "nbconvert_exporter": "python",
   "pygments_lexer": "ipython3",
   "version": "3.7.1"
  }
 },
 "nbformat": 4,
 "nbformat_minor": 2
}
