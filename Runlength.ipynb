{
 "cells": [
  {
   "cell_type": "code",
   "execution_count": 19,
   "metadata": {},
   "outputs": [
    {
     "name": "stdout",
     "output_type": "stream",
     "text": [
      "aaaabbbbbbcc\n",
      "a4b6c2\n",
      "compression ratio: 0.5\n"
     ]
    }
   ],
   "source": [
    "# Python code for run length encoding \n",
    "from collections import OrderedDict \n",
    "def runLengthEncoding(input): \n",
    "\n",
    "    # Generate ordered dictionary of all lower \n",
    "\n",
    "    dict=OrderedDict.fromkeys(input, 0) \n",
    "\n",
    "    # Now iterate through input string to calculate \n",
    "    # frequency of each character, \n",
    "    for ch in input: \n",
    "        dict[ch] += 1\n",
    "\n",
    "    # now iterate through dictionary to make \n",
    "    # output string from (key,value) pairs \n",
    "    output = '' \n",
    "    for key,value in dict.items(): \n",
    "        output = output + key + str(value) \n",
    "    return output \n",
    "\n",
    "\n",
    "if __name__ == \"__main__\": \n",
    "    inp = \"aaaabbbbbbcc\"\n",
    "    print(inp)\n",
    "    res = runLengthEncoding(inp)\n",
    "    print (res) \n",
    "    print(\"compression ratio:\",len(res)/len(inp))\n"
   ]
  },
  {
   "cell_type": "code",
   "execution_count": null,
   "metadata": {},
   "outputs": [],
   "source": []
  }
 ],
 "metadata": {
  "kernelspec": {
   "display_name": "Python 3",
   "language": "python",
   "name": "python3"
  },
  "language_info": {
   "codemirror_mode": {
    "name": "ipython",
    "version": 3
   },
   "file_extension": ".py",
   "mimetype": "text/x-python",
   "name": "python",
   "nbconvert_exporter": "python",
   "pygments_lexer": "ipython3",
   "version": "3.7.1"
  }
 },
 "nbformat": 4,
 "nbformat_minor": 2
}
