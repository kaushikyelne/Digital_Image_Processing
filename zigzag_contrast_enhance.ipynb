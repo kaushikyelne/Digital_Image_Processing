{
 "cells": [
  {
   "cell_type": "code",
   "execution_count": 2,
   "metadata": {},
   "outputs": [
    {
     "name": "stdout",
     "output_type": "stream",
     "text": [
      "Input  :\n",
      "[[ 1  2  6  7]\n",
      " [ 3  5  8 13]\n",
      " [ 4  9 12 14]\n",
      " [10 11 15 16]]\n",
      "\n",
      "Output :\n",
      "[ 1  2  3  4  5  6  7  8  9 10 11 12 13 14 15 16]\n"
     ]
    }
   ],
   "source": [
    "# Importing required libraries\n",
    "import numpy as np\n",
    "\n",
    "# Input Matrix (image matrix)\n",
    "matrix = np.array([[1,2,6,7], [3,5,8,13], [4,9,12,14], [10,11,15,16]])\n",
    "\n",
    "no_of_rows = len(matrix)\n",
    "no_of_cols = len(matrix[0])\n",
    "\n",
    "# Printing Input Matrix\n",
    "print('Input  :')\n",
    "print(matrix)\n",
    "\n",
    "# Temperary list for storing output values in multiple lists based on sum of index \n",
    "temp_out = []\n",
    "\n",
    "# Temperary list containing 7 empty list to store values at sum of index( 0 to 6) in separate lists\n",
    "for i in range(7):\n",
    "    temp_out.append([])\n",
    "\n",
    "\n",
    "for i in range(no_of_rows):\n",
    "    for j in range(no_of_cols):\n",
    "        # Sum of index of input matrix\n",
    "        sum = i+j\n",
    "        \n",
    "        # If sum of index is odd then append the value at that index\n",
    "        if (sum % 2 != 0):\n",
    "            temp_out[sum].append(matrix[i][j])\n",
    "        \n",
    "        # If sum of index is even then insert the value at first postion with that index\n",
    "        else :\n",
    "            temp_out[sum].insert(0,matrix[i][j])\n",
    "\n",
    "# Combining all lists with sum of index as 0 to 6 \n",
    "output_matrix = []\n",
    "\n",
    "# Printing Output Matrix\n",
    "for i in range(7):\n",
    "    output_matrix = output_matrix + temp_out[i] \n",
    "\n",
    "# Converting Output List to Array and printing it\n",
    "output_matrix = np.asarray(output_matrix)\n",
    "print('\\nOutput :')\n",
    "print(output_matrix)"
   ]
  },
  {
   "cell_type": "code",
   "execution_count": null,
   "metadata": {},
   "outputs": [],
   "source": []
  }
 ],
 "metadata": {
  "kernelspec": {
   "display_name": "Python 3",
   "language": "python",
   "name": "python3"
  },
  "language_info": {
   "codemirror_mode": {
    "name": "ipython",
    "version": 3
   },
   "file_extension": ".py",
   "mimetype": "text/x-python",
   "name": "python",
   "nbconvert_exporter": "python",
   "pygments_lexer": "ipython3",
   "version": "3.7.1"
  }
 },
 "nbformat": 4,
 "nbformat_minor": 2
}
